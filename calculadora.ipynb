{
 "cells": [
  {
   "cell_type": "code",
   "execution_count": 6,
   "id": "b73f5cea",
   "metadata": {},
   "outputs": [],
   "source": [
    "def some(a,b):\n",
    "    return a+b\n",
    "\n",
    "def subtracao(a,b):\n",
    "    return a-b\n",
    "\n",
    "def multiplicacao(a,b):\n",
    "    return a*b\n",
    "\n",
    "def divisao(a,b):\n",
    "    return a/b\n",
    "\n",
    "def exponenciacao(a,b):\n",
    "    return a**b"
   ]
  },
  {
   "cell_type": "code",
   "execution_count": null,
   "id": "00631ff5",
   "metadata": {},
   "outputs": [],
   "source": []
  }
 ],
 "metadata": {
  "kernelspec": {
   "display_name": "Python 3",
   "language": "python",
   "name": "python3"
  },
  "language_info": {
   "codemirror_mode": {
    "name": "ipython",
    "version": 3
   },
   "file_extension": ".py",
   "mimetype": "text/x-python",
   "name": "python",
   "nbconvert_exporter": "python",
   "pygments_lexer": "ipython3",
   "version": "3.8.8"
  }
 },
 "nbformat": 4,
 "nbformat_minor": 5
}
