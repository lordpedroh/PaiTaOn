{
 "cells": [
  {
   "cell_type": "code",
   "execution_count": 3,
   "id": "fe4c7367",
   "metadata": {},
   "outputs": [
    {
     "name": "stdout",
     "output_type": "stream",
     "text": [
      "s 3\n",
      "su -1\n",
      "m 2\n",
      "d 0.5\n",
      "p 1.0\n"
     ]
    }
   ],
   "source": [
    "import calculadora\n",
    "\n",
    "print(\"s\" ,calculadora.soma(1,2))\n",
    "print(\"su\" ,calculadora.subtracao(1,2))\n",
    "print(\"m\" ,calculadora.multiplicacao(1,2))\n",
    "print(\"d\" ,calculadora.divisao(1,2))\n",
    "print(\"p\", calculadora.exponenciacao(1,2))"
   ]
  },
  {
   "cell_type": "code",
   "execution_count": null,
   "id": "eb128f43",
   "metadata": {},
   "outputs": [],
   "source": []
  }
 ],
 "metadata": {
  "kernelspec": {
   "display_name": "Python 3",
   "language": "python",
   "name": "python3"
  }
 },
 "nbformat": 4,
 "nbformat_minor": 5
}
