{
 "cells": [
  {
   "cell_type": "code",
   "execution_count": 8,
   "id": "de5f2599",
   "metadata": {},
   "outputs": [
    {
     "name": "stdout",
     "output_type": "stream",
     "text": [
      "lista:  [1, 3, 2, 3, 4, 5, 1, 5, 7, 5, 6, 8, 3, 4]\n",
      "x:  {1, 2, 3, 4, 5, 6, 7, 8}\n"
     ]
    }
   ],
   "source": [
    "lista = [1,3,2,3,4,5,1,5,7,5,6,8,3,4]\n",
    "x = set()\n",
    "for numero in lista:\n",
    "    x.add(numero)\n",
    "    \n",
    "print(\"lista: \",lista)\n",
    "print(\"x: \",x)"
   ]
  },
  {
   "cell_type": "code",
   "execution_count": 9,
   "id": "41acc523",
   "metadata": {},
   "outputs": [
    {
     "name": "stdout",
     "output_type": "stream",
     "text": [
      "lista:  [1, 3, 2, 3, 4, 5, 1, 5, 7, 5, 6, 8, 3, 4]\n",
      "lista2:  [1, 3, 2, 4, 5, 7, 6, 8]\n"
     ]
    }
   ],
   "source": [
    "lista = [1,3,2,3,4,5,1,5,7,5,6,8,3,4]\n",
    "lista2 = []\n",
    "for numero in lista:\n",
    "    if numero not in lista2:\n",
    "        lista2.append(numero)\n",
    "    \n",
    "print(\"lista: \",lista)\n",
    "print(\"lista2: \",lista2)"
   ]
  },
  {
   "cell_type": "code",
   "execution_count": 11,
   "id": "1d89bcc2",
   "metadata": {},
   "outputs": [
    {
     "name": "stdout",
     "output_type": "stream",
     "text": [
      "digite ceu cep: 61\n",
      "seu indereço é:  la na pqp\n"
     ]
    }
   ],
   "source": [
    "lugar = {'61': \"la na pqp\", '71': \"rua do seu jorge\", '11': \"so deus sabe\"}\n",
    "\n",
    "cep = input(\"digite ceu cep: \")\n",
    "print(\"seu indereço é: \", lugar[cep])"
   ]
  },
  {
   "cell_type": "code",
   "execution_count": 13,
   "id": "3717dc80",
   "metadata": {},
   "outputs": [
    {
     "name": "stdout",
     "output_type": "stream",
     "text": [
      "digite seu ddd: 31\n",
      "esse é o estado que você procurou:  Belo Horizonte\n"
     ]
    }
   ],
   "source": [
    "lugar = {'61': \"brasilia\", '71': \"salvador\", '11': \"São Paulo\", '21': \"Rio De Janeiro\", '32': \"Juiz De Fora\", '19': \"campinas\", '27': \"Vitoria\", '31': \"Belo Horizonte\"}\n",
    "\n",
    "cep = input(\"digite seu ddd: \")\n",
    "print(\"esse é o estado que você procurou: \", lugar[cep])"
   ]
  },
  {
   "cell_type": "code",
   "execution_count": null,
   "id": "3c74dcb7",
   "metadata": {},
   "outputs": [],
   "source": []
  }
 ],
 "metadata": {
  "kernelspec": {
   "display_name": "Python 3",
   "language": "python",
   "name": "python3"
  },
  "language_info": {
   "codemirror_mode": {
    "name": "ipython",
    "version": 3
   },
   "file_extension": ".py",
   "mimetype": "text/x-python",
   "name": "python",
   "nbconvert_exporter": "python",
   "pygments_lexer": "ipython3",
   "version": "3.8.8"
  }
 },
 "nbformat": 4,
 "nbformat_minor": 5
}
