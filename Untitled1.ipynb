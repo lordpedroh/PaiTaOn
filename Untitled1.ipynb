{
 "cells": [
  {
   "cell_type": "code",
   "execution_count": 10,
   "id": "a02f81c8",
   "metadata": {},
   "outputs": [
    {
     "name": "stdout",
     "output_type": "stream",
     "text": [
      "digite o procurado:joao\n",
      "bem vindo joao\n"
     ]
    }
   ],
   "source": [
    "lista = [\"paula\",\"joao\",\"ola\"]\n",
    "convidado = input(\"digite o procurado:\")\n",
    "for nome in lista:\n",
    "    if convidado == nome:\n",
    "        print(\"bem vindo\", nome)"
   ]
  },
  {
   "cell_type": "code",
   "execution_count": 27,
   "id": "f2dd1a87",
   "metadata": {},
   "outputs": [
    {
     "name": "stdout",
     "output_type": "stream",
     "text": [
      "buscando...\n",
      "buscando...\n",
      "buscando...\n",
      "buscando...\n",
      "buscando...\n",
      "buscando...\n",
      "buscando...\n",
      "buscando...\n",
      "buscando...\n",
      "buscando...\n",
      "buscando...\n",
      "buscando...\n",
      "buscando...\n",
      "buscando...\n",
      "buscando...\n",
      "buscando...\n",
      "buscando...\n",
      "buscando...\n",
      "buscando...\n",
      "buscando...\n",
      "valor da soma :  315 /nIteraço~es:  40\n"
     ]
    }
   ],
   "source": [
    "lista = range(3,1000)\n",
    "soma = 0\n",
    "i = 0\n",
    "while soma< 300:\n",
    "    if lista [i] %3 == 0:\n",
    "        soma = soma + lista [i]\n",
    "    elif lista[i]%5 == 0:\n",
    "        pass\n",
    "    else:\n",
    "        print(\"buscando...\")\n",
    "    i += 1\n",
    "else:\n",
    "    print (\"valor da soma : \",soma,\"/nIteraço~es: \",i)"
   ]
  },
  {
   "cell_type": "code",
   "execution_count": null,
   "id": "bcfe2296",
   "metadata": {},
   "outputs": [],
   "source": []
  }
 ],
 "metadata": {
  "kernelspec": {
   "display_name": "Python 3",
   "language": "python",
   "name": "python3"
  },
  "language_info": {
   "codemirror_mode": {
    "name": "ipython",
    "version": 3
   },
   "file_extension": ".py",
   "mimetype": "text/x-python",
   "name": "python",
   "nbconvert_exporter": "python",
   "pygments_lexer": "ipython3",
   "version": "3.8.8"
  }
 },
 "nbformat": 4,
 "nbformat_minor": 5
}
