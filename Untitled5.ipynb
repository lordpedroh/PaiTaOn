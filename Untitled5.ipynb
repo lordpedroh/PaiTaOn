{
 "cells": [
  {
   "cell_type": "code",
   "execution_count": 2,
   "id": "70123a5c",
   "metadata": {},
   "outputs": [
    {
     "name": "stdout",
     "output_type": "stream",
     "text": [
      "Writing notas.txt\n"
     ]
    }
   ],
   "source": [
    "%%writefile notas.txt\n",
    " "
   ]
  },
  {
   "cell_type": "code",
   "execution_count": 6,
   "id": "46260cc4",
   "metadata": {},
   "outputs": [
    {
     "name": "stdout",
     "output_type": "stream",
     "text": [
      "digite as notas do aluno: 10, 5, 6\n"
     ]
    },
    {
     "ename": "AttributeError",
     "evalue": "'str' object has no attribute 'slip'",
     "output_type": "error",
     "traceback": [
      "\u001b[1;31m---------------------------------------------------------------------------\u001b[0m",
      "\u001b[1;31mAttributeError\u001b[0m                            Traceback (most recent call last)",
      "\u001b[1;32m<ipython-input-6-689d29083b09>\u001b[0m in \u001b[0;36m<module>\u001b[1;34m\u001b[0m\n\u001b[0;32m      1\u001b[0m \u001b[1;32mwith\u001b[0m \u001b[0mopen\u001b[0m\u001b[1;33m(\u001b[0m\u001b[1;34m\"noras.txt\"\u001b[0m\u001b[1;33m,\u001b[0m \u001b[1;34m\"a\"\u001b[0m\u001b[1;33m)\u001b[0m \u001b[1;32mas\u001b[0m \u001b[0mlistasNovas\u001b[0m\u001b[1;33m:\u001b[0m\u001b[1;33m\u001b[0m\u001b[1;33m\u001b[0m\u001b[0m\n\u001b[0;32m      2\u001b[0m     \u001b[0mnotas\u001b[0m \u001b[1;33m=\u001b[0m \u001b[0minput\u001b[0m\u001b[1;33m(\u001b[0m\u001b[1;34m\"digite as notas do aluno: \"\u001b[0m\u001b[1;33m)\u001b[0m\u001b[1;33m\u001b[0m\u001b[1;33m\u001b[0m\u001b[0m\n\u001b[1;32m----> 3\u001b[1;33m     \u001b[0mnotas\u001b[0m \u001b[1;33m=\u001b[0m \u001b[0mnotas\u001b[0m\u001b[1;33m.\u001b[0m\u001b[0mslip\u001b[0m\u001b[1;33m(\u001b[0m\u001b[1;34m\", \"\u001b[0m\u001b[1;33m)\u001b[0m\u001b[1;33m\u001b[0m\u001b[1;33m\u001b[0m\u001b[0m\n\u001b[0m\u001b[0;32m      4\u001b[0m \u001b[1;33m\u001b[0m\u001b[0m\n\u001b[0;32m      5\u001b[0m     \u001b[1;32mfor\u001b[0m \u001b[0mnota\u001b[0m \u001b[1;32min\u001b[0m \u001b[0mnotas\u001b[0m\u001b[1;33m:\u001b[0m\u001b[1;33m\u001b[0m\u001b[1;33m\u001b[0m\u001b[0m\n",
      "\u001b[1;31mAttributeError\u001b[0m: 'str' object has no attribute 'slip'"
     ]
    }
   ],
   "source": [
    "with open(\"noras.txt\", \"a\") as listasNovas:\n",
    "    notas = input(\"digite as notas do aluno: \")\n",
    "    notas = notas.slip(\", \")\n",
    "    \n",
    "    for nota in notas:\n",
    "        listaNotas.write(nota)\n",
    "        listaNotas.write(\"\\n\")#pula linha\n",
    "        \n",
    "    listaNotas.close()\n",
    "    \n",
    "with open(\"notas.txt\") as listaNotas:\n",
    "    notas = listaNotas.read().split()\n",
    "    listaNotas.close()\n",
    "    \n",
    "lista = []\n",
    "\n",
    "for item in notas:\n",
    "    lista.append(int(item))\n",
    "    \n",
    "print(\"O maior numero é\", max(lista))\n",
    "print(\"o menor numero é\", min(lista))"
   ]
  },
  {
   "cell_type": "code",
   "execution_count": null,
   "id": "19358fe6",
   "metadata": {},
   "outputs": [],
   "source": []
  }
 ],
 "metadata": {
  "kernelspec": {
   "display_name": "Python 3",
   "language": "python",
   "name": "python3"
  },
  "language_info": {
   "codemirror_mode": {
    "name": "ipython",
    "version": 3
   },
   "file_extension": ".py",
   "mimetype": "text/x-python",
   "name": "python",
   "nbconvert_exporter": "python",
   "pygments_lexer": "ipython3",
   "version": "3.8.8"
  }
 },
 "nbformat": 4,
 "nbformat_minor": 5
}
