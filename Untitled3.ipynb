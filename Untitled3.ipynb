{
 "cells": [
  {
   "cell_type": "code",
   "execution_count": 5,
   "id": "e15b0e94",
   "metadata": {},
   "outputs": [],
   "source": [
    "def filme_favoritopica(titulo):\n",
    "    print(\"melhor filme ever é :\",titulo,)"
   ]
  },
  {
   "cell_type": "code",
   "execution_count": 6,
   "id": "b2a00550",
   "metadata": {},
   "outputs": [
    {
     "name": "stdout",
     "output_type": "stream",
     "text": [
      "melhor filme ever é : Demon Slayer - Mugen Train\n"
     ]
    }
   ],
   "source": [
    "filme_favoritopica(\"Demon Slayer - Mugen Train\")"
   ]
  },
  {
   "cell_type": "code",
   "execution_count": null,
   "id": "1c77887a",
   "metadata": {},
   "outputs": [],
   "source": []
  },
  {
   "cell_type": "code",
   "execution_count": 8,
   "id": "9e785b77",
   "metadata": {},
   "outputs": [],
   "source": [
    "def calcularAreaTrapézio(ladoM, ladoN, H):\n",
    "    area =(ladoM + ladoN) * H /2\n",
    "    return area "
   ]
  },
  {
   "cell_type": "code",
   "execution_count": 10,
   "id": "20e4d868",
   "metadata": {},
   "outputs": [
    {
     "name": "stdout",
     "output_type": "stream",
     "text": [
      "4.5\n"
     ]
    }
   ],
   "source": [
    "area = calcularAreaTrapézio(2, 1, 3)\n",
    "print(area)"
   ]
  },
  {
   "cell_type": "code",
   "execution_count": 12,
   "id": "5606294e",
   "metadata": {},
   "outputs": [],
   "source": [
    "def calcularAreaCirculo(RaioAmarelo, pi):\n",
    "    area = RaioAmarelo * RaioAmarelo * pi\n",
    "    return area"
   ]
  },
  {
   "cell_type": "code",
   "execution_count": 15,
   "id": "027ec41e",
   "metadata": {},
   "outputs": [
    {
     "name": "stdout",
     "output_type": "stream",
     "text": [
      "78.5\n"
     ]
    }
   ],
   "source": [
    "area = calcularAreaCirculo(5, 3.14)\n",
    "print(area)"
   ]
  },
  {
   "cell_type": "code",
   "execution_count": 21,
   "id": "06529986",
   "metadata": {},
   "outputs": [],
   "source": [
    "def velocidade1(distancia,tempo):\n",
    "    print(distancia/tempo)"
   ]
  },
  {
   "cell_type": "code",
   "execution_count": 23,
   "id": "09096e9b",
   "metadata": {},
   "outputs": [
    {
     "name": "stdout",
     "output_type": "stream",
     "text": [
      "5.0\n"
     ]
    }
   ],
   "source": [
    "def velocidade2(distancia,tempo):\n",
    "    print(distancia/tempo)"
   ]
  },
  {
   "cell_type": "code",
   "execution_count": null,
   "id": "01568049",
   "metadata": {},
   "outputs": [],
   "source": [
    "x = input(\"velocidade de pessoa 1:\")\n",
    "velocidade1(2)\n"
   ]
  },
  {
   "cell_type": "code",
   "execution_count": null,
   "id": "42e6d721",
   "metadata": {},
   "outputs": [],
   "source": []
  },
  {
   "cell_type": "code",
   "execution_count": 10,
   "id": "68375f67",
   "metadata": {},
   "outputs": [],
   "source": [
    "def calcularVelocidade(distancia,tempo):\n",
    "    velocidade = distancia/tempo \n",
    "    return velocidade"
   ]
  },
  {
   "cell_type": "code",
   "execution_count": 12,
   "id": "02abac5d",
   "metadata": {},
   "outputs": [
    {
     "name": "stdout",
     "output_type": "stream",
     "text": [
      "distancia da pessoa 1:4\n",
      "tempo de pessoa 1:8\n",
      "distancia da pessoa 2:6\n",
      "tempo de pessoa 2:7\n",
      "pessoa  é mais minato\n"
     ]
    }
   ],
   "source": [
    "dpessoa1 = int(input(\"distancia da pessoa 1:\"))\n",
    "tpessoa1 = int(input(\"tempo de pessoa 1:\"))\n",
    "dpessoa2 = int(input(\"distancia da pessoa 2:\"))\n",
    "tpessoa2 = int(input(\"tempo de pessoa 2:\"))\n",
    "\n",
    "velocidade1 = calcularVelocidade(dpessoa1,tpessoa1)\n",
    "\n",
    "velocidade2 = calcularVelocidade(dpessoa2,tpessoa2)\n",
    "\n",
    "if velocidade1<velocidade2:\n",
    "    print(\"pessoa  é mais minato\")\n",
    "elif velocidade1>velocidade2:\n",
    "    print(\"pessoA  é mais minato\")\n",
    "else:\n",
    "    print(\"as pessoas são goku e vegeta iguais\")"
   ]
  },
  {
   "cell_type": "code",
   "execution_count": null,
   "id": "c4473d32",
   "metadata": {},
   "outputs": [],
   "source": [
    "]"
   ]
  },
  {
   "cell_type": "code",
   "execution_count": null,
   "id": "2360a662",
   "metadata": {},
   "outputs": [],
   "source": []
  }
 ],
 "metadata": {
  "kernelspec": {
   "display_name": "Python 3",
   "language": "python",
   "name": "python3"
  }
 },
 "nbformat": 4,
 "nbformat_minor": 5
}
