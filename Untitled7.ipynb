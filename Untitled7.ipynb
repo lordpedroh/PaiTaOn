{
 "cells": [
  {
   "cell_type": "code",
   "execution_count": 8,
   "id": "54cddb63",
   "metadata": {},
   "outputs": [
    {
     "name": "stdout",
     "output_type": "stream",
     "text": [
      "s 3\n",
      "su -1\n",
      "m 2\n",
      "d 0.5\n"
     ]
    },
    {
     "ename": "AttributeError",
     "evalue": "module 'calculadora' has no attribute 'potencia'",
     "output_type": "error",
     "traceback": [
      "\u001b[1;31m---------------------------------------------------------------------------\u001b[0m",
      "\u001b[1;31mAttributeError\u001b[0m                            Traceback (most recent call last)",
      "\u001b[1;32m<ipython-input-8-2311e0091d79>\u001b[0m in \u001b[0;36m<module>\u001b[1;34m\u001b[0m\n\u001b[0;32m      5\u001b[0m \u001b[0mprint\u001b[0m\u001b[1;33m(\u001b[0m\u001b[1;34m\"m\"\u001b[0m \u001b[1;33m,\u001b[0m\u001b[0mcalculadora\u001b[0m\u001b[1;33m.\u001b[0m\u001b[0mmultiplicacao\u001b[0m\u001b[1;33m(\u001b[0m\u001b[1;36m1\u001b[0m\u001b[1;33m,\u001b[0m\u001b[1;36m2\u001b[0m\u001b[1;33m)\u001b[0m\u001b[1;33m)\u001b[0m\u001b[1;33m\u001b[0m\u001b[1;33m\u001b[0m\u001b[0m\n\u001b[0;32m      6\u001b[0m \u001b[0mprint\u001b[0m\u001b[1;33m(\u001b[0m\u001b[1;34m\"d\"\u001b[0m \u001b[1;33m,\u001b[0m\u001b[0mcalculadora\u001b[0m\u001b[1;33m.\u001b[0m\u001b[0mdivisao\u001b[0m\u001b[1;33m(\u001b[0m\u001b[1;36m1\u001b[0m\u001b[1;33m,\u001b[0m\u001b[1;36m2\u001b[0m\u001b[1;33m)\u001b[0m\u001b[1;33m)\u001b[0m\u001b[1;33m\u001b[0m\u001b[1;33m\u001b[0m\u001b[0m\n\u001b[1;32m----> 7\u001b[1;33m \u001b[0mprint\u001b[0m\u001b[1;33m(\u001b[0m\u001b[1;34m\"p\"\u001b[0m\u001b[1;33m,\u001b[0m \u001b[0mcalculadora\u001b[0m\u001b[1;33m.\u001b[0m\u001b[0mpotencia\u001b[0m\u001b[1;33m(\u001b[0m\u001b[1;36m1\u001b[0m\u001b[1;33m,\u001b[0m\u001b[1;36m2\u001b[0m\u001b[1;33m)\u001b[0m\u001b[1;33m)\u001b[0m\u001b[1;33m\u001b[0m\u001b[1;33m\u001b[0m\u001b[0m\n\u001b[0m",
      "\u001b[1;31mAttributeError\u001b[0m: module 'calculadora' has no attribute 'potencia'"
     ]
    }
   ],
   "source": [
    "import calculadora\n",
    "\n",
    "print(\"s\" ,calculadora.some(1,2))\n",
    "print(\"su\" ,calculadora.subtracao(1,2))\n",
    "print(\"m\" ,calculadora.multiplicacao(1,2))\n",
    "print(\"d\" ,calculadora.divisao(1,2))\n",
    "print(\"p\", calculadora.potencia(1,2))"
   ]
  },
  {
   "cell_type": "code",
   "execution_count": null,
   "id": "de4e2683",
   "metadata": {},
   "outputs": [],
   "source": []
  },
  {
   "cell_type": "code",
   "execution_count": null,
   "id": "2b6f0ebd",
   "metadata": {},
   "outputs": [],
   "source": []
  }
 ],
 "metadata": {
  "kernelspec": {
   "display_name": "Python 3",
   "language": "python",
   "name": "python3"
  }
 },
 "nbformat": 4,
 "nbformat_minor": 5
}
