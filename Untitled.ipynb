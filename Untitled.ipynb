{
 "cells": [
  {
   "cell_type": "code",
   "execution_count": 6,
   "id": "6db0ec56",
   "metadata": {},
   "outputs": [
    {
     "name": "stdout",
     "output_type": "stream",
     "text": [
      "digite o numero do seu item:0\n",
      "batata frita       R$ 9,50\n"
     ]
    }
   ],
   "source": [
    "itens = ['batata frita       R$ 9,50', 'xbuguer      R$ 15,49', 'pizza     R$ 34,67']             \n",
    "preço = ['R$ 9,50', 'R$ 15,49', 'R$ 34,67']\n",
    "item = int(input (\"digite o numero do seu item:\"))\n",
    "print(cardapio [item])"
   ]
  },
  {
   "cell_type": "code",
   "execution_count": 7,
   "id": "c5ffe70d",
   "metadata": {},
   "outputs": [
    {
     "name": "stdout",
     "output_type": "stream",
     "text": [
      "Entre com o código do produto: 0\n",
      "Entre com a quantidade: 5\n",
      "\n",
      "\n",
      "-----------NOTA----------\n",
      "Produto:  Refrigerante \n",
      "Quantidade:  5 \n",
      "Preço: R$ 7.5\n"
     ]
    }
   ],
   "source": [
    "#Registro dos produtos e preços (ainda não vimos matrizes nem dicionario)\n",
    "produtos = [\"Cachorro Quente\",\"X-Salada\",\"X-Bacon\",\"Torrada simples\",\"Refrigerante\"]\n",
    "precos = [4.00, 4.50,5.00,2,1.50]\n",
    "#Pegando pedido do usuário\n",
    "codigo = int(input(\"Entre com o código do produto: \"))\n",
    "quantidade = int(input(\"Entre com a quantidade: \"))\n",
    "#Calculando valor final\n",
    "valorTotal = precos[codigo-1]*quantidade\n",
    "#Gerando nota\n",
    "print(\"\\n\\n-----------NOTA----------\\nProduto: \",produtos[codigo-1],\"\\nQuantidade: \",quantidade,\"\\nPreço: R$\",valorTotal)"
   ]
  },
  {
   "cell_type": "code",
   "execution_count": null,
   "id": "ba398fe0",
   "metadata": {},
   "outputs": [],
   "source": []
  }
 ],
 "metadata": {
  "kernelspec": {
   "display_name": "Python 3",
   "language": "python",
   "name": "python3"
  },
  "language_info": {
   "codemirror_mode": {
    "name": "ipython",
    "version": 3
   },
   "file_extension": ".py",
   "mimetype": "text/x-python",
   "name": "python",
   "nbconvert_exporter": "python",
   "pygments_lexer": "ipython3",
   "version": "3.8.8"
  }
 },
 "nbformat": 4,
 "nbformat_minor": 5
}
